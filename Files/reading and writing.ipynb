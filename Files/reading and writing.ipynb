{
 "cells": [
  {
   "cell_type": "code",
   "execution_count": null,
   "metadata": {},
   "outputs": [],
   "source": [
    "\n",
    "# reading and writing operations in files"
   ]
  },
  {
   "cell_type": "code",
   "execution_count": 16,
   "metadata": {},
   "outputs": [],
   "source": [
    "# creating a dictionary(json)\n",
    "data = {\n",
    "    \"name\": \"pavan\",\n",
    "    \"mail\": \"pavan@gmail.com\",\n",
    "    \"mobile\": 98787465,\n",
    "    \"job\": [\"dev\", \"tester\"]\n",
    "}"
   ]
  },
  {
   "cell_type": "code",
   "execution_count": 17,
   "metadata": {},
   "outputs": [],
   "source": [
    "import json\n",
    "\n",
    "with open(\"sample.json\", \"w\") as f:          # creating the file sample.txt and referencing it as f\n",
    "    json.dump(data, f)                  # loading the above dictionary into file"
   ]
  },
  {
   "cell_type": "code",
   "execution_count": 18,
   "metadata": {},
   "outputs": [],
   "source": [
    "# read data \n",
    "with open(\"sample.json\", \"r\") as f:          # opening file sample.txt and referencing it as f\n",
    "    read = json.load(f)                 # displaying the data"
   ]
  },
  {
   "cell_type": "code",
   "execution_count": 19,
   "metadata": {},
   "outputs": [
    {
     "data": {
      "text/plain": [
       "{'name': 'pavan',\n",
       " 'mail': 'pavan@gmail.com',\n",
       " 'mobile': 98787465,\n",
       " 'job': ['dev', 'tester']}"
      ]
     },
     "execution_count": 19,
     "metadata": {},
     "output_type": "execute_result"
    }
   ],
   "source": [
    "read"
   ]
  },
  {
   "cell_type": "code",
   "execution_count": 15,
   "metadata": {},
   "outputs": [],
   "source": [
    "# lets create a csv file\n",
    "\n",
    "data2 = [\n",
    "    [\"name\", \"lastname\", \"location\"],\n",
    "    [\"pavan\", \"bairu\", \"hyd\"],\n",
    "    [\"prashanth\", \"bairu\", \"hnk\"]\n",
    "]\n",
    "\n",
    "import csv\n",
    "\n",
    "with open(\"sample.csv\", \"w\") as f:      # creating the file sample.csv and referencing it as f\n",
    "    w = csv.writer(f)                   # writing the data into sample.csv file\n",
    "    for i in data2:\n",
    "        w.writerow(i)                   # displays the each row in the list"
   ]
  },
  {
   "cell_type": "code",
   "execution_count": 20,
   "metadata": {},
   "outputs": [
    {
     "name": "stdout",
     "output_type": "stream",
     "text": [
      "['name', 'lastname', 'location']\n",
      "[]\n",
      "['pavan', 'bairu', 'hyd']\n",
      "[]\n",
      "['prashanth', 'bairu', 'hnk']\n",
      "[]\n"
     ]
    }
   ],
   "source": [
    "with open(\"sample.csv\", \"r\") as f:\n",
    "    r = csv.reader(f)\n",
    "\n",
    "    for i in r:\n",
    "        print(i)"
   ]
  },
  {
   "cell_type": "code",
   "execution_count": 11,
   "metadata": {},
   "outputs": [
    {
     "data": {
      "text/plain": [
       "<_csv.reader at 0x27f18eadae0>"
      ]
     },
     "execution_count": 11,
     "metadata": {},
     "output_type": "execute_result"
    }
   ],
   "source": [
    "r"
   ]
  },
  {
   "cell_type": "code",
   "execution_count": null,
   "metadata": {},
   "outputs": [],
   "source": []
  }
 ],
 "metadata": {
  "kernelspec": {
   "display_name": "Python 3",
   "language": "python",
   "name": "python3"
  },
  "language_info": {
   "codemirror_mode": {
    "name": "ipython",
    "version": 3
   },
   "file_extension": ".py",
   "mimetype": "text/x-python",
   "name": "python",
   "nbconvert_exporter": "python",
   "pygments_lexer": "ipython3",
   "version": "3.12.1"
  }
 },
 "nbformat": 4,
 "nbformat_minor": 2
}

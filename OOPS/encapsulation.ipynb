{
 "cells": [
  {
   "cell_type": "markdown",
   "metadata": {},
   "source": [
    "# encapsulation means hiding the implementation and providing the only info which is needed to user\n",
    "# restricting the data to user. this can be achieved using the private variables"
   ]
  },
  {
   "cell_type": "code",
   "execution_count": 1,
   "metadata": {},
   "outputs": [],
   "source": [
    "class Bike:\n",
    "\n",
    "    def __init__(self, company, model, color, speed):\n",
    "        self.company = company\n",
    "        self.model = model\n",
    "        self.color = color\n",
    "        self.speed = speed"
   ]
  },
  {
   "cell_type": "code",
   "execution_count": 2,
   "metadata": {},
   "outputs": [],
   "source": [
    "obj = Bike(\"pulsar\", 200, \"black\", 100)"
   ]
  },
  {
   "cell_type": "code",
   "execution_count": 3,
   "metadata": {},
   "outputs": [
    {
     "data": {
      "text/plain": [
       "'black'"
      ]
     },
     "execution_count": 3,
     "metadata": {},
     "output_type": "execute_result"
    }
   ],
   "source": [
    "# here with obj reference we are able to access the color directly \n",
    "obj.color"
   ]
  },
  {
   "cell_type": "code",
   "execution_count": 4,
   "metadata": {},
   "outputs": [],
   "source": [
    "# here im able to change the color of bike using obj reference\n",
    "obj.color = \"blue\""
   ]
  },
  {
   "cell_type": "code",
   "execution_count": 5,
   "metadata": {},
   "outputs": [
    {
     "data": {
      "text/plain": [
       "'blue'"
      ]
     },
     "execution_count": 5,
     "metadata": {},
     "output_type": "execute_result"
    }
   ],
   "source": [
    "# now accessing again the color\n",
    "obj.color"
   ]
  },
  {
   "cell_type": "code",
   "execution_count": 6,
   "metadata": {},
   "outputs": [],
   "source": [
    "# from the above im directly able to access the variables and even assigning the different value to it. \n",
    "# this not a good approach as like user can access the data. but cannot modilfy it\n",
    "# so inorder to restrict the variable modify access to user by private variables\n",
    "# lets create the same above"
   ]
  },
  {
   "cell_type": "code",
   "execution_count": 7,
   "metadata": {},
   "outputs": [],
   "source": [
    "# creating a Car class\n",
    "class Car:\n",
    "\n",
    "     def __init__(self, comapny, color , speed):\n",
    "          self.__company = comapny    # by writing the __company is makes it a private variable\n",
    "          self.__color = color\n",
    "          self.__speed = speed"
   ]
  },
  {
   "cell_type": "code",
   "execution_count": 8,
   "metadata": {},
   "outputs": [],
   "source": [
    "# lets create an object\n",
    "obj1 = Car(\"Audi\", \"white\", 150)"
   ]
  },
  {
   "cell_type": "code",
   "execution_count": 11,
   "metadata": {},
   "outputs": [
    {
     "ename": "AttributeError",
     "evalue": "'Car' object has no attribute '__color'",
     "output_type": "error",
     "traceback": [
      "\u001b[1;31m---------------------------------------------------------------------------\u001b[0m",
      "\u001b[1;31mAttributeError\u001b[0m                            Traceback (most recent call last)",
      "Cell \u001b[1;32mIn[11], line 2\u001b[0m\n\u001b[0;32m      1\u001b[0m \u001b[38;5;66;03m# if trying to access the variable using obj refernece. will get an error\u001b[39;00m\n\u001b[1;32m----> 2\u001b[0m \u001b[43mobj1\u001b[49m\u001b[38;5;241;43m.\u001b[39;49m\u001b[43m__color\u001b[49m\n",
      "\u001b[1;31mAttributeError\u001b[0m: 'Car' object has no attribute '__color'"
     ]
    }
   ],
   "source": [
    "# if trying to access the variable using obj refernece. will get an error beacause of private variable.\n",
    "obj1.__color"
   ]
  },
  {
   "cell_type": "code",
   "execution_count": 39,
   "metadata": {},
   "outputs": [],
   "source": [
    "# in above we have restricted the user to access the variable directly.\n",
    "# incase if we want to provide the access to the user. will provide by creating the public methods.\n",
    "# so user cannot directly access or modify the variable. but with method they can\n",
    "\n",
    "# creating a Car class\n",
    "class Car:\n",
    "\n",
    "    def __init__(self, comapny, color , speed):\n",
    "          self.__company = comapny    # by writing the __company is makes it a private variable\n",
    "          self.__color = color\n",
    "          self.__speed = speed\n",
    "\n",
    "    # by calling the below method user can access the color\n",
    "    def get_color(self):\n",
    "         return self.__color\n",
    "    \n",
    "    # by calling the below method user can modify the color\n",
    "    def set_color(self, color):\n",
    "        self.__color = color"
   ]
  },
  {
   "cell_type": "code",
   "execution_count": 40,
   "metadata": {},
   "outputs": [],
   "source": [
    "obj2 = Car(\"nano\", \"yellow\", 60)"
   ]
  },
  {
   "cell_type": "code",
   "execution_count": 41,
   "metadata": {},
   "outputs": [
    {
     "data": {
      "text/plain": [
       "'yellow'"
      ]
     },
     "execution_count": 41,
     "metadata": {},
     "output_type": "execute_result"
    }
   ],
   "source": [
    "# by caling get_color() method user can access the color\n",
    "obj2.get_color()"
   ]
  },
  {
   "cell_type": "code",
   "execution_count": 42,
   "metadata": {},
   "outputs": [],
   "source": [
    "# by caling set_color() method user can modify the color\n",
    "obj2.set_color(\"white\")"
   ]
  },
  {
   "cell_type": "code",
   "execution_count": 46,
   "metadata": {},
   "outputs": [
    {
     "data": {
      "text/plain": [
       "'white'"
      ]
     },
     "execution_count": 46,
     "metadata": {},
     "output_type": "execute_result"
    }
   ],
   "source": [
    "# now we get white color\n",
    "obj2.get_color()"
   ]
  },
  {
   "cell_type": "code",
   "execution_count": 49,
   "metadata": {},
   "outputs": [
    {
     "data": {
      "text/plain": [
       "'blue'"
      ]
     },
     "execution_count": 49,
     "metadata": {},
     "output_type": "execute_result"
    }
   ],
   "source": [
    "# here we are not able to directly access the variables but through the methods we can achieve it\n",
    "# if we want to get the data using variables. we have to access like below. but this is not provided to user\n",
    "\n",
    "obj2._Car__color   # accesing with _classname__private variable\n",
    "\n",
    "obj2._Car__color = \"blue\"  # modify the color\n",
    "\n",
    "obj2._Car__color"
   ]
  },
  {
   "cell_type": "code",
   "execution_count": 69,
   "metadata": {},
   "outputs": [],
   "source": [
    "# lets create the encapsulation using the bank account example\n",
    "\n",
    "class bank_account:\n",
    "\n",
    "    def __init__(self, balance):\n",
    "        self.__balance = balance\n",
    "\n",
    "    # user can get the balance by the get_balance() method\n",
    "    def get_balance(self):\n",
    "        return self.__balance\n",
    "\n",
    "    # user can deposit the balance by depost_amount()\n",
    "    def deposit_amount(self, amount):\n",
    "        self.__balance = self.__balance + amount\n",
    "\n",
    "    # withdraw\n",
    "    # the implementation inside method is restricted to the user\n",
    "    def withdraw_amount(self, amount):\n",
    "        if self.__balance >= amount:\n",
    "            self.__balance = self.__balance - amount\n",
    "\n",
    "            return \"successfully withdrawn amount\", amount\n",
    "        else:\n",
    "            return \"Insufficient Funds\""
   ]
  },
  {
   "cell_type": "code",
   "execution_count": 70,
   "metadata": {},
   "outputs": [],
   "source": [
    "obj3 = bank_account(10000)   # opened bank account with 10000"
   ]
  },
  {
   "cell_type": "code",
   "execution_count": 55,
   "metadata": {},
   "outputs": [
    {
     "data": {
      "text/plain": [
       "10000"
      ]
     },
     "execution_count": 55,
     "metadata": {},
     "output_type": "execute_result"
    }
   ],
   "source": [
    "# now access the balance \n",
    "obj3.get_balance()"
   ]
  },
  {
   "cell_type": "code",
   "execution_count": 71,
   "metadata": {},
   "outputs": [],
   "source": [
    "# opened bank account with 10000 and now adding 12000.\n",
    "# by calling method this user can access the method by passing the amount. he is not directly access the variable\n",
    "# the implementation inside the method is restricted to the user. so that he cannot change the implementation\n",
    "obj3.deposit_amount(2000)   "
   ]
  },
  {
   "cell_type": "code",
   "execution_count": 63,
   "metadata": {},
   "outputs": [
    {
     "data": {
      "text/plain": [
       "12000"
      ]
     },
     "execution_count": 63,
     "metadata": {},
     "output_type": "execute_result"
    }
   ],
   "source": [
    "# now again access the balance \n",
    "obj3.get_balance()"
   ]
  },
  {
   "cell_type": "code",
   "execution_count": 72,
   "metadata": {},
   "outputs": [
    {
     "data": {
      "text/plain": [
       "'Insufficient Funds'"
      ]
     },
     "execution_count": 72,
     "metadata": {},
     "output_type": "execute_result"
    }
   ],
   "source": [
    "obj3.withdraw_amount(15000)  # withdraw the amount which is higher than available amount. so Insufficient funds"
   ]
  },
  {
   "cell_type": "code",
   "execution_count": 73,
   "metadata": {},
   "outputs": [
    {
     "data": {
      "text/plain": [
       "('successfully withdrawn amount', 9000)"
      ]
     },
     "execution_count": 73,
     "metadata": {},
     "output_type": "execute_result"
    }
   ],
   "source": [
    "obj3.withdraw_amount(9000) # withdraw amount 9000"
   ]
  },
  {
   "cell_type": "code",
   "execution_count": 74,
   "metadata": {},
   "outputs": [
    {
     "data": {
      "text/plain": [
       "3000"
      ]
     },
     "execution_count": 74,
     "metadata": {},
     "output_type": "execute_result"
    }
   ],
   "source": [
    "# now again access the balance \n",
    "obj3.get_balance()"
   ]
  }
 ],
 "metadata": {
  "kernelspec": {
   "display_name": "Python 3",
   "language": "python",
   "name": "python3"
  },
  "language_info": {
   "codemirror_mode": {
    "name": "ipython",
    "version": 3
   },
   "file_extension": ".py",
   "mimetype": "text/x-python",
   "name": "python",
   "nbconvert_exporter": "python",
   "pygments_lexer": "ipython3",
   "version": "3.12.1"
  }
 },
 "nbformat": 4,
 "nbformat_minor": 2
}
